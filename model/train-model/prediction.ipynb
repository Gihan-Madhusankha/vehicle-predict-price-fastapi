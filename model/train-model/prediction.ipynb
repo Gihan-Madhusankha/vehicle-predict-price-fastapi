{
 "cells": [
  {
   "cell_type": "code",
   "execution_count": 3,
   "id": "cbefa95b-881b-4c70-99ac-22de5187f989",
   "metadata": {
    "ExecuteTime": {
     "end_time": "2024-01-21T12:47:47.612460900Z",
     "start_time": "2024-01-21T12:47:31.695464500Z"
    }
   },
   "outputs": [
    {
     "name": "stdout",
     "output_type": "stream",
     "text": [
      "Requirement already satisfied: numpy in c:\\users\\gihan\\pycharmprojects\\fastapiproject\\.venv\\lib\\site-packages (1.26.3)\n",
      "Requirement already satisfied: pandas in c:\\users\\gihan\\pycharmprojects\\fastapiproject\\.venv\\lib\\site-packages (2.2.0)\n",
      "Requirement already satisfied: numpy<2,>=1.22.4 in c:\\users\\gihan\\pycharmprojects\\fastapiproject\\.venv\\lib\\site-packages (from pandas) (1.26.3)\n",
      "Requirement already satisfied: python-dateutil>=2.8.2 in c:\\users\\gihan\\pycharmprojects\\fastapiproject\\.venv\\lib\\site-packages (from pandas) (2.8.2)\n",
      "Requirement already satisfied: pytz>=2020.1 in c:\\users\\gihan\\pycharmprojects\\fastapiproject\\.venv\\lib\\site-packages (from pandas) (2023.3.post1)\n",
      "Requirement already satisfied: tzdata>=2022.7 in c:\\users\\gihan\\pycharmprojects\\fastapiproject\\.venv\\lib\\site-packages (from pandas) (2023.4)\n",
      "Requirement already satisfied: six>=1.5 in c:\\users\\gihan\\pycharmprojects\\fastapiproject\\.venv\\lib\\site-packages (from python-dateutil>=2.8.2->pandas) (1.16.0)\n"
     ]
    }
   ],
   "source": [
    "!pip install numpy\n",
    "!pip install pandas"
   ]
  },
  {
   "cell_type": "code",
   "execution_count": 5,
   "id": "08535ec0-11e9-4bd4-beb3-3f762f072aa5",
   "metadata": {
    "ExecuteTime": {
     "end_time": "2024-01-21T12:47:51.295463800Z",
     "start_time": "2024-01-21T12:47:51.154463300Z"
    }
   },
   "outputs": [],
   "source": [
    "import numpy as np\n",
    "import pandas as pd"
   ]
  },
  {
   "cell_type": "code",
   "execution_count": 8,
   "id": "7d35d5b5-7192-42d5-b849-dcd367ec3206",
   "metadata": {
    "ExecuteTime": {
     "end_time": "2024-01-21T12:48:29.565457600Z",
     "start_time": "2024-01-21T12:48:29.452460700Z"
    }
   },
   "outputs": [],
   "source": [
    "path = '../dataset/vehicle_prediction.csv'\n",
    "data = pd.read_csv(path, encoding='latin-1')"
   ]
  },
  {
   "cell_type": "code",
   "outputs": [
    {
     "data": {
      "text/plain": "           brand                    model  model_year       milage  mileage  \\\n0           Audi  A3 2.0 TDI Premium Plus        2015   83,000 mi.    83000   \n1          Dodge  Sprinter 2500 High Roof        2004   55,000 mi.    55000   \n2  Mercedes-Benz  Sprinter 3500 High Roof        2022      105 mi.      105   \n3  Mercedes-Benz            Sprinter 2500        2016  139,200 mi.   139200   \n4  Mercedes-Benz            Sprinter 2500        2016  143,290 mi.   143290   \n\n  fuel_type                                      engine transmission ext_col  \\\n0    Diesel  150.0HP 2.0L 4 Cylinder Engine Diesel Fuel  6-Speed A/T   Black   \n1    Diesel  154.0HP 2.7L 5 Cylinder Engine Diesel Fuel          A/T   White   \n2    Diesel  161.0HP 2.0L 4 Cylinder Engine Diesel Fuel  7-Speed A/T   Black   \n3    Diesel  161.0HP 2.1L 4 Cylinder Engine Diesel Fuel          A/T   White   \n4    Diesel  161.0HP 2.1L 4 Cylinder Engine Diesel Fuel          A/T   White   \n\n  int_col                                accident clean_title      price  \\\n0   Black  At least 1 accident or damage reported         Yes   $18,999    \n1    Gray                           None reported         Yes   $24,000    \n2  Orange                           None reported         Yes  $200,000    \n3   Black  At least 1 accident or damage reported         Yes   $22,000    \n4   Black                           None reported         Yes   $33,490    \n\n   selling_price  \n0          18999  \n1          24000  \n2         200000  \n3          22000  \n4          33490  ",
      "text/html": "<div>\n<style scoped>\n    .dataframe tbody tr th:only-of-type {\n        vertical-align: middle;\n    }\n\n    .dataframe tbody tr th {\n        vertical-align: top;\n    }\n\n    .dataframe thead th {\n        text-align: right;\n    }\n</style>\n<table border=\"1\" class=\"dataframe\">\n  <thead>\n    <tr style=\"text-align: right;\">\n      <th></th>\n      <th>brand</th>\n      <th>model</th>\n      <th>model_year</th>\n      <th>milage</th>\n      <th>mileage</th>\n      <th>fuel_type</th>\n      <th>engine</th>\n      <th>transmission</th>\n      <th>ext_col</th>\n      <th>int_col</th>\n      <th>accident</th>\n      <th>clean_title</th>\n      <th>price</th>\n      <th>selling_price</th>\n    </tr>\n  </thead>\n  <tbody>\n    <tr>\n      <th>0</th>\n      <td>Audi</td>\n      <td>A3 2.0 TDI Premium Plus</td>\n      <td>2015</td>\n      <td>83,000 mi.</td>\n      <td>83000</td>\n      <td>Diesel</td>\n      <td>150.0HP 2.0L 4 Cylinder Engine Diesel Fuel</td>\n      <td>6-Speed A/T</td>\n      <td>Black</td>\n      <td>Black</td>\n      <td>At least 1 accident or damage reported</td>\n      <td>Yes</td>\n      <td>$18,999</td>\n      <td>18999</td>\n    </tr>\n    <tr>\n      <th>1</th>\n      <td>Dodge</td>\n      <td>Sprinter 2500 High Roof</td>\n      <td>2004</td>\n      <td>55,000 mi.</td>\n      <td>55000</td>\n      <td>Diesel</td>\n      <td>154.0HP 2.7L 5 Cylinder Engine Diesel Fuel</td>\n      <td>A/T</td>\n      <td>White</td>\n      <td>Gray</td>\n      <td>None reported</td>\n      <td>Yes</td>\n      <td>$24,000</td>\n      <td>24000</td>\n    </tr>\n    <tr>\n      <th>2</th>\n      <td>Mercedes-Benz</td>\n      <td>Sprinter 3500 High Roof</td>\n      <td>2022</td>\n      <td>105 mi.</td>\n      <td>105</td>\n      <td>Diesel</td>\n      <td>161.0HP 2.0L 4 Cylinder Engine Diesel Fuel</td>\n      <td>7-Speed A/T</td>\n      <td>Black</td>\n      <td>Orange</td>\n      <td>None reported</td>\n      <td>Yes</td>\n      <td>$200,000</td>\n      <td>200000</td>\n    </tr>\n    <tr>\n      <th>3</th>\n      <td>Mercedes-Benz</td>\n      <td>Sprinter 2500</td>\n      <td>2016</td>\n      <td>139,200 mi.</td>\n      <td>139200</td>\n      <td>Diesel</td>\n      <td>161.0HP 2.1L 4 Cylinder Engine Diesel Fuel</td>\n      <td>A/T</td>\n      <td>White</td>\n      <td>Black</td>\n      <td>At least 1 accident or damage reported</td>\n      <td>Yes</td>\n      <td>$22,000</td>\n      <td>22000</td>\n    </tr>\n    <tr>\n      <th>4</th>\n      <td>Mercedes-Benz</td>\n      <td>Sprinter 2500</td>\n      <td>2016</td>\n      <td>143,290 mi.</td>\n      <td>143290</td>\n      <td>Diesel</td>\n      <td>161.0HP 2.1L 4 Cylinder Engine Diesel Fuel</td>\n      <td>A/T</td>\n      <td>White</td>\n      <td>Black</td>\n      <td>None reported</td>\n      <td>Yes</td>\n      <td>$33,490</td>\n      <td>33490</td>\n    </tr>\n  </tbody>\n</table>\n</div>"
     },
     "execution_count": 9,
     "metadata": {},
     "output_type": "execute_result"
    }
   ],
   "source": [
    "data.head()"
   ],
   "metadata": {
    "collapsed": false,
    "ExecuteTime": {
     "end_time": "2024-01-21T12:48:49.486461400Z",
     "start_time": "2024-01-21T12:48:48.324456600Z"
    }
   },
   "id": "163c2e80cef83d8",
   "execution_count": 9
  },
  {
   "cell_type": "code",
   "outputs": [
    {
     "data": {
      "text/plain": "(4009, 14)"
     },
     "execution_count": 10,
     "metadata": {},
     "output_type": "execute_result"
    }
   ],
   "source": [
    "data.shape"
   ],
   "metadata": {
    "collapsed": false,
    "ExecuteTime": {
     "end_time": "2024-01-21T12:48:58.989456700Z",
     "start_time": "2024-01-21T12:48:58.708465500Z"
    }
   },
   "id": "ad0115bd37a801a2",
   "execution_count": 10
  },
  {
   "cell_type": "code",
   "outputs": [
    {
     "data": {
      "text/plain": "      brand  model  model_year  milage  mileage  fuel_type  engine  \\\n0     False  False       False   False    False      False   False   \n1     False  False       False   False    False      False   False   \n2     False  False       False   False    False      False   False   \n3     False  False       False   False    False      False   False   \n4     False  False       False   False    False      False   False   \n...     ...    ...         ...     ...      ...        ...     ...   \n4004  False  False       False   False    False      False   False   \n4005  False  False       False   False    False      False   False   \n4006  False  False       False   False    False      False   False   \n4007  False  False       False   False    False      False   False   \n4008  False  False       False   False    False      False   False   \n\n      transmission  ext_col  int_col  accident  clean_title  price  \\\n0            False    False    False     False        False  False   \n1            False    False    False     False        False  False   \n2            False    False    False     False        False  False   \n3            False    False    False     False        False  False   \n4            False    False    False     False        False  False   \n...            ...      ...      ...       ...          ...    ...   \n4004         False    False    False     False        False  False   \n4005         False    False    False     False        False  False   \n4006         False    False    False     False        False  False   \n4007         False    False    False     False        False  False   \n4008         False    False    False     False        False  False   \n\n      selling_price  \n0             False  \n1             False  \n2             False  \n3             False  \n4             False  \n...             ...  \n4004          False  \n4005          False  \n4006          False  \n4007          False  \n4008          False  \n\n[4009 rows x 14 columns]",
      "text/html": "<div>\n<style scoped>\n    .dataframe tbody tr th:only-of-type {\n        vertical-align: middle;\n    }\n\n    .dataframe tbody tr th {\n        vertical-align: top;\n    }\n\n    .dataframe thead th {\n        text-align: right;\n    }\n</style>\n<table border=\"1\" class=\"dataframe\">\n  <thead>\n    <tr style=\"text-align: right;\">\n      <th></th>\n      <th>brand</th>\n      <th>model</th>\n      <th>model_year</th>\n      <th>milage</th>\n      <th>mileage</th>\n      <th>fuel_type</th>\n      <th>engine</th>\n      <th>transmission</th>\n      <th>ext_col</th>\n      <th>int_col</th>\n      <th>accident</th>\n      <th>clean_title</th>\n      <th>price</th>\n      <th>selling_price</th>\n    </tr>\n  </thead>\n  <tbody>\n    <tr>\n      <th>0</th>\n      <td>False</td>\n      <td>False</td>\n      <td>False</td>\n      <td>False</td>\n      <td>False</td>\n      <td>False</td>\n      <td>False</td>\n      <td>False</td>\n      <td>False</td>\n      <td>False</td>\n      <td>False</td>\n      <td>False</td>\n      <td>False</td>\n      <td>False</td>\n    </tr>\n    <tr>\n      <th>1</th>\n      <td>False</td>\n      <td>False</td>\n      <td>False</td>\n      <td>False</td>\n      <td>False</td>\n      <td>False</td>\n      <td>False</td>\n      <td>False</td>\n      <td>False</td>\n      <td>False</td>\n      <td>False</td>\n      <td>False</td>\n      <td>False</td>\n      <td>False</td>\n    </tr>\n    <tr>\n      <th>2</th>\n      <td>False</td>\n      <td>False</td>\n      <td>False</td>\n      <td>False</td>\n      <td>False</td>\n      <td>False</td>\n      <td>False</td>\n      <td>False</td>\n      <td>False</td>\n      <td>False</td>\n      <td>False</td>\n      <td>False</td>\n      <td>False</td>\n      <td>False</td>\n    </tr>\n    <tr>\n      <th>3</th>\n      <td>False</td>\n      <td>False</td>\n      <td>False</td>\n      <td>False</td>\n      <td>False</td>\n      <td>False</td>\n      <td>False</td>\n      <td>False</td>\n      <td>False</td>\n      <td>False</td>\n      <td>False</td>\n      <td>False</td>\n      <td>False</td>\n      <td>False</td>\n    </tr>\n    <tr>\n      <th>4</th>\n      <td>False</td>\n      <td>False</td>\n      <td>False</td>\n      <td>False</td>\n      <td>False</td>\n      <td>False</td>\n      <td>False</td>\n      <td>False</td>\n      <td>False</td>\n      <td>False</td>\n      <td>False</td>\n      <td>False</td>\n      <td>False</td>\n      <td>False</td>\n    </tr>\n    <tr>\n      <th>...</th>\n      <td>...</td>\n      <td>...</td>\n      <td>...</td>\n      <td>...</td>\n      <td>...</td>\n      <td>...</td>\n      <td>...</td>\n      <td>...</td>\n      <td>...</td>\n      <td>...</td>\n      <td>...</td>\n      <td>...</td>\n      <td>...</td>\n      <td>...</td>\n    </tr>\n    <tr>\n      <th>4004</th>\n      <td>False</td>\n      <td>False</td>\n      <td>False</td>\n      <td>False</td>\n      <td>False</td>\n      <td>False</td>\n      <td>False</td>\n      <td>False</td>\n      <td>False</td>\n      <td>False</td>\n      <td>False</td>\n      <td>False</td>\n      <td>False</td>\n      <td>False</td>\n    </tr>\n    <tr>\n      <th>4005</th>\n      <td>False</td>\n      <td>False</td>\n      <td>False</td>\n      <td>False</td>\n      <td>False</td>\n      <td>False</td>\n      <td>False</td>\n      <td>False</td>\n      <td>False</td>\n      <td>False</td>\n      <td>False</td>\n      <td>False</td>\n      <td>False</td>\n      <td>False</td>\n    </tr>\n    <tr>\n      <th>4006</th>\n      <td>False</td>\n      <td>False</td>\n      <td>False</td>\n      <td>False</td>\n      <td>False</td>\n      <td>False</td>\n      <td>False</td>\n      <td>False</td>\n      <td>False</td>\n      <td>False</td>\n      <td>False</td>\n      <td>False</td>\n      <td>False</td>\n      <td>False</td>\n    </tr>\n    <tr>\n      <th>4007</th>\n      <td>False</td>\n      <td>False</td>\n      <td>False</td>\n      <td>False</td>\n      <td>False</td>\n      <td>False</td>\n      <td>False</td>\n      <td>False</td>\n      <td>False</td>\n      <td>False</td>\n      <td>False</td>\n      <td>False</td>\n      <td>False</td>\n      <td>False</td>\n    </tr>\n    <tr>\n      <th>4008</th>\n      <td>False</td>\n      <td>False</td>\n      <td>False</td>\n      <td>False</td>\n      <td>False</td>\n      <td>False</td>\n      <td>False</td>\n      <td>False</td>\n      <td>False</td>\n      <td>False</td>\n      <td>False</td>\n      <td>False</td>\n      <td>False</td>\n      <td>False</td>\n    </tr>\n  </tbody>\n</table>\n<p>4009 rows × 14 columns</p>\n</div>"
     },
     "execution_count": 11,
     "metadata": {},
     "output_type": "execute_result"
    }
   ],
   "source": [
    "data.isnull()"
   ],
   "metadata": {
    "collapsed": false,
    "ExecuteTime": {
     "end_time": "2024-01-21T12:49:25.342458900Z",
     "start_time": "2024-01-21T12:49:24.833464300Z"
    }
   },
   "id": "963cd8b5d3c91ee4",
   "execution_count": 11
  },
  {
   "cell_type": "code",
   "outputs": [
    {
     "data": {
      "text/plain": "brand            0\nmodel            0\nmodel_year       0\nmilage           0\nmileage          0\nfuel_type        0\nengine           0\ntransmission     0\next_col          0\nint_col          0\naccident         0\nclean_title      0\nprice            0\nselling_price    0\ndtype: int64"
     },
     "execution_count": 12,
     "metadata": {},
     "output_type": "execute_result"
    }
   ],
   "source": [
    "data.isnull().sum()"
   ],
   "metadata": {
    "collapsed": false,
    "ExecuteTime": {
     "end_time": "2024-01-21T12:49:32.463458300Z",
     "start_time": "2024-01-21T12:49:32.371464200Z"
    }
   },
   "id": "83dbf82bb49b5a2e",
   "execution_count": 12
  },
  {
   "cell_type": "code",
   "outputs": [
    {
     "name": "stdout",
     "output_type": "stream",
     "text": [
      "<class 'pandas.core.frame.DataFrame'>\n",
      "RangeIndex: 4009 entries, 0 to 4008\n",
      "Data columns (total 14 columns):\n",
      " #   Column         Non-Null Count  Dtype \n",
      "---  ------         --------------  ----- \n",
      " 0   brand          4009 non-null   object\n",
      " 1   model          4009 non-null   object\n",
      " 2   model_year     4009 non-null   int64 \n",
      " 3   milage         4009 non-null   object\n",
      " 4   mileage        4009 non-null   int64 \n",
      " 5   fuel_type      4009 non-null   object\n",
      " 6   engine         4009 non-null   object\n",
      " 7   transmission   4009 non-null   object\n",
      " 8   ext_col        4009 non-null   object\n",
      " 9   int_col        4009 non-null   object\n",
      " 10  accident       4009 non-null   object\n",
      " 11  clean_title    4009 non-null   object\n",
      " 12  price          4009 non-null   object\n",
      " 13  selling_price  4009 non-null   int64 \n",
      "dtypes: int64(3), object(11)\n",
      "memory usage: 438.6+ KB\n"
     ]
    }
   ],
   "source": [
    "data.info()"
   ],
   "metadata": {
    "collapsed": false,
    "ExecuteTime": {
     "end_time": "2024-01-21T12:49:46.518458500Z",
     "start_time": "2024-01-21T12:49:46.399466300Z"
    }
   },
   "id": "92430c1199045f22",
   "execution_count": 13
  },
  {
   "cell_type": "code",
   "outputs": [
    {
     "data": {
      "text/plain": "   brand                    model  model_year      milage  mileage fuel_type  \\\n0   Audi  A3 2.0 TDI Premium Plus        2015  83,000 mi.    83000    Diesel   \n1  Dodge  Sprinter 2500 High Roof        2004  55,000 mi.    55000    Diesel   \n\n                                       engine transmission ext_col int_col  \\\n0  150.0HP 2.0L 4 Cylinder Engine Diesel Fuel  6-Speed A/T   Black   Black   \n1  154.0HP 2.7L 5 Cylinder Engine Diesel Fuel          A/T   White    Gray   \n\n                                 accident clean_title     price  selling_price  \n0  At least 1 accident or damage reported         Yes  $18,999           18999  \n1                           None reported         Yes  $24,000           24000  ",
      "text/html": "<div>\n<style scoped>\n    .dataframe tbody tr th:only-of-type {\n        vertical-align: middle;\n    }\n\n    .dataframe tbody tr th {\n        vertical-align: top;\n    }\n\n    .dataframe thead th {\n        text-align: right;\n    }\n</style>\n<table border=\"1\" class=\"dataframe\">\n  <thead>\n    <tr style=\"text-align: right;\">\n      <th></th>\n      <th>brand</th>\n      <th>model</th>\n      <th>model_year</th>\n      <th>milage</th>\n      <th>mileage</th>\n      <th>fuel_type</th>\n      <th>engine</th>\n      <th>transmission</th>\n      <th>ext_col</th>\n      <th>int_col</th>\n      <th>accident</th>\n      <th>clean_title</th>\n      <th>price</th>\n      <th>selling_price</th>\n    </tr>\n  </thead>\n  <tbody>\n    <tr>\n      <th>0</th>\n      <td>Audi</td>\n      <td>A3 2.0 TDI Premium Plus</td>\n      <td>2015</td>\n      <td>83,000 mi.</td>\n      <td>83000</td>\n      <td>Diesel</td>\n      <td>150.0HP 2.0L 4 Cylinder Engine Diesel Fuel</td>\n      <td>6-Speed A/T</td>\n      <td>Black</td>\n      <td>Black</td>\n      <td>At least 1 accident or damage reported</td>\n      <td>Yes</td>\n      <td>$18,999</td>\n      <td>18999</td>\n    </tr>\n    <tr>\n      <th>1</th>\n      <td>Dodge</td>\n      <td>Sprinter 2500 High Roof</td>\n      <td>2004</td>\n      <td>55,000 mi.</td>\n      <td>55000</td>\n      <td>Diesel</td>\n      <td>154.0HP 2.7L 5 Cylinder Engine Diesel Fuel</td>\n      <td>A/T</td>\n      <td>White</td>\n      <td>Gray</td>\n      <td>None reported</td>\n      <td>Yes</td>\n      <td>$24,000</td>\n      <td>24000</td>\n    </tr>\n  </tbody>\n</table>\n</div>"
     },
     "execution_count": 23,
     "metadata": {},
     "output_type": "execute_result"
    }
   ],
   "source": [
    "data.head(2)"
   ],
   "metadata": {
    "collapsed": false,
    "ExecuteTime": {
     "end_time": "2024-01-21T13:20:15.335727800Z",
     "start_time": "2024-01-21T13:20:15.222720400Z"
    }
   },
   "id": "341d2e2a4ee17024",
   "execution_count": 23
  },
  {
   "cell_type": "code",
   "outputs": [
    {
     "ename": "ValueError",
     "evalue": "could not convert string to float: 'Audi'",
     "output_type": "error",
     "traceback": [
      "\u001B[1;31m---------------------------------------------------------------------------\u001B[0m",
      "\u001B[1;31mValueError\u001B[0m                                Traceback (most recent call last)",
      "Cell \u001B[1;32mIn[24], line 1\u001B[0m\n\u001B[1;32m----> 1\u001B[0m \u001B[43mdata\u001B[49m\u001B[38;5;241;43m.\u001B[39;49m\u001B[43mcorr\u001B[49m\u001B[43m(\u001B[49m\u001B[43m)\u001B[49m[\u001B[38;5;124m'\u001B[39m\u001B[38;5;124mselling_price\u001B[39m\u001B[38;5;124m'\u001B[39m]\n",
      "File \u001B[1;32m~\\PycharmProjects\\fastApiProject\\.venv\\lib\\site-packages\\pandas\\core\\frame.py:11022\u001B[0m, in \u001B[0;36mDataFrame.corr\u001B[1;34m(self, method, min_periods, numeric_only)\u001B[0m\n\u001B[0;32m  11020\u001B[0m cols \u001B[38;5;241m=\u001B[39m data\u001B[38;5;241m.\u001B[39mcolumns\n\u001B[0;32m  11021\u001B[0m idx \u001B[38;5;241m=\u001B[39m cols\u001B[38;5;241m.\u001B[39mcopy()\n\u001B[1;32m> 11022\u001B[0m mat \u001B[38;5;241m=\u001B[39m \u001B[43mdata\u001B[49m\u001B[38;5;241;43m.\u001B[39;49m\u001B[43mto_numpy\u001B[49m\u001B[43m(\u001B[49m\u001B[43mdtype\u001B[49m\u001B[38;5;241;43m=\u001B[39;49m\u001B[38;5;28;43mfloat\u001B[39;49m\u001B[43m,\u001B[49m\u001B[43m \u001B[49m\u001B[43mna_value\u001B[49m\u001B[38;5;241;43m=\u001B[39;49m\u001B[43mnp\u001B[49m\u001B[38;5;241;43m.\u001B[39;49m\u001B[43mnan\u001B[49m\u001B[43m,\u001B[49m\u001B[43m \u001B[49m\u001B[43mcopy\u001B[49m\u001B[38;5;241;43m=\u001B[39;49m\u001B[38;5;28;43;01mFalse\u001B[39;49;00m\u001B[43m)\u001B[49m\n\u001B[0;32m  11024\u001B[0m \u001B[38;5;28;01mif\u001B[39;00m method \u001B[38;5;241m==\u001B[39m \u001B[38;5;124m\"\u001B[39m\u001B[38;5;124mpearson\u001B[39m\u001B[38;5;124m\"\u001B[39m:\n\u001B[0;32m  11025\u001B[0m     correl \u001B[38;5;241m=\u001B[39m libalgos\u001B[38;5;241m.\u001B[39mnancorr(mat, minp\u001B[38;5;241m=\u001B[39mmin_periods)\n",
      "File \u001B[1;32m~\\PycharmProjects\\fastApiProject\\.venv\\lib\\site-packages\\pandas\\core\\frame.py:1981\u001B[0m, in \u001B[0;36mDataFrame.to_numpy\u001B[1;34m(self, dtype, copy, na_value)\u001B[0m\n\u001B[0;32m   1979\u001B[0m \u001B[38;5;28;01mif\u001B[39;00m dtype \u001B[38;5;129;01mis\u001B[39;00m \u001B[38;5;129;01mnot\u001B[39;00m \u001B[38;5;28;01mNone\u001B[39;00m:\n\u001B[0;32m   1980\u001B[0m     dtype \u001B[38;5;241m=\u001B[39m np\u001B[38;5;241m.\u001B[39mdtype(dtype)\n\u001B[1;32m-> 1981\u001B[0m result \u001B[38;5;241m=\u001B[39m \u001B[38;5;28;43mself\u001B[39;49m\u001B[38;5;241;43m.\u001B[39;49m\u001B[43m_mgr\u001B[49m\u001B[38;5;241;43m.\u001B[39;49m\u001B[43mas_array\u001B[49m\u001B[43m(\u001B[49m\u001B[43mdtype\u001B[49m\u001B[38;5;241;43m=\u001B[39;49m\u001B[43mdtype\u001B[49m\u001B[43m,\u001B[49m\u001B[43m \u001B[49m\u001B[43mcopy\u001B[49m\u001B[38;5;241;43m=\u001B[39;49m\u001B[43mcopy\u001B[49m\u001B[43m,\u001B[49m\u001B[43m \u001B[49m\u001B[43mna_value\u001B[49m\u001B[38;5;241;43m=\u001B[39;49m\u001B[43mna_value\u001B[49m\u001B[43m)\u001B[49m\n\u001B[0;32m   1982\u001B[0m \u001B[38;5;28;01mif\u001B[39;00m result\u001B[38;5;241m.\u001B[39mdtype \u001B[38;5;129;01mis\u001B[39;00m \u001B[38;5;129;01mnot\u001B[39;00m dtype:\n\u001B[0;32m   1983\u001B[0m     result \u001B[38;5;241m=\u001B[39m np\u001B[38;5;241m.\u001B[39marray(result, dtype\u001B[38;5;241m=\u001B[39mdtype, copy\u001B[38;5;241m=\u001B[39m\u001B[38;5;28;01mFalse\u001B[39;00m)\n",
      "File \u001B[1;32m~\\PycharmProjects\\fastApiProject\\.venv\\lib\\site-packages\\pandas\\core\\internals\\managers.py:1693\u001B[0m, in \u001B[0;36mBlockManager.as_array\u001B[1;34m(self, dtype, copy, na_value)\u001B[0m\n\u001B[0;32m   1691\u001B[0m         arr\u001B[38;5;241m.\u001B[39mflags\u001B[38;5;241m.\u001B[39mwriteable \u001B[38;5;241m=\u001B[39m \u001B[38;5;28;01mFalse\u001B[39;00m\n\u001B[0;32m   1692\u001B[0m \u001B[38;5;28;01melse\u001B[39;00m:\n\u001B[1;32m-> 1693\u001B[0m     arr \u001B[38;5;241m=\u001B[39m \u001B[38;5;28;43mself\u001B[39;49m\u001B[38;5;241;43m.\u001B[39;49m\u001B[43m_interleave\u001B[49m\u001B[43m(\u001B[49m\u001B[43mdtype\u001B[49m\u001B[38;5;241;43m=\u001B[39;49m\u001B[43mdtype\u001B[49m\u001B[43m,\u001B[49m\u001B[43m \u001B[49m\u001B[43mna_value\u001B[49m\u001B[38;5;241;43m=\u001B[39;49m\u001B[43mna_value\u001B[49m\u001B[43m)\u001B[49m\n\u001B[0;32m   1694\u001B[0m     \u001B[38;5;66;03m# The underlying data was copied within _interleave, so no need\u001B[39;00m\n\u001B[0;32m   1695\u001B[0m     \u001B[38;5;66;03m# to further copy if copy=True or setting na_value\u001B[39;00m\n\u001B[0;32m   1697\u001B[0m \u001B[38;5;28;01mif\u001B[39;00m na_value \u001B[38;5;129;01mis\u001B[39;00m lib\u001B[38;5;241m.\u001B[39mno_default:\n",
      "File \u001B[1;32m~\\PycharmProjects\\fastApiProject\\.venv\\lib\\site-packages\\pandas\\core\\internals\\managers.py:1752\u001B[0m, in \u001B[0;36mBlockManager._interleave\u001B[1;34m(self, dtype, na_value)\u001B[0m\n\u001B[0;32m   1750\u001B[0m     \u001B[38;5;28;01melse\u001B[39;00m:\n\u001B[0;32m   1751\u001B[0m         arr \u001B[38;5;241m=\u001B[39m blk\u001B[38;5;241m.\u001B[39mget_values(dtype)\n\u001B[1;32m-> 1752\u001B[0m     \u001B[43mresult\u001B[49m\u001B[43m[\u001B[49m\u001B[43mrl\u001B[49m\u001B[38;5;241;43m.\u001B[39;49m\u001B[43mindexer\u001B[49m\u001B[43m]\u001B[49m \u001B[38;5;241m=\u001B[39m arr\n\u001B[0;32m   1753\u001B[0m     itemmask[rl\u001B[38;5;241m.\u001B[39mindexer] \u001B[38;5;241m=\u001B[39m \u001B[38;5;241m1\u001B[39m\n\u001B[0;32m   1755\u001B[0m \u001B[38;5;28;01mif\u001B[39;00m \u001B[38;5;129;01mnot\u001B[39;00m itemmask\u001B[38;5;241m.\u001B[39mall():\n",
      "\u001B[1;31mValueError\u001B[0m: could not convert string to float: 'Audi'"
     ]
    }
   ],
   "source": [
    "data.corr()['selling_price']"
   ],
   "metadata": {
    "collapsed": false,
    "ExecuteTime": {
     "end_time": "2024-01-21T13:20:17.278721900Z",
     "start_time": "2024-01-21T13:20:16.933729200Z"
    }
   },
   "id": "965b1c9151f216d5",
   "execution_count": 24
  }
 ],
 "metadata": {
  "kernelspec": {
   "display_name": "Python 3 (ipykernel)",
   "language": "python",
   "name": "python3"
  },
  "language_info": {
   "codemirror_mode": {
    "name": "ipython",
    "version": 3
   },
   "file_extension": ".py",
   "mimetype": "text/x-python",
   "name": "python",
   "nbconvert_exporter": "python",
   "pygments_lexer": "ipython3",
   "version": "3.10.6"
  }
 },
 "nbformat": 4,
 "nbformat_minor": 5
}
